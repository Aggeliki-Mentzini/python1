{
  "nbformat": 4,
  "nbformat_minor": 0,
  "metadata": {
    "colab": {
      "provenance": [],
      "authorship_tag": "ABX9TyPMZaDKfLKHE6s9G2IkM5qm",
      "include_colab_link": true
    },
    "kernelspec": {
      "name": "python3",
      "display_name": "Python 3"
    },
    "language_info": {
      "name": "python"
    }
  },
  "cells": [
    {
      "cell_type": "markdown",
      "metadata": {
        "id": "view-in-github",
        "colab_type": "text"
      },
      "source": [
        "<a href=\"https://colab.research.google.com/github/Aggeliki-Mentzini/python1/blob/main/OOP%20with%20python.ipynb\" target=\"_parent\"><img src=\"https://colab.research.google.com/assets/colab-badge.svg\" alt=\"Open In Colab\"/></a>"
      ]
    },
    {
      "cell_type": "code",
      "execution_count": 9,
      "metadata": {
        "id": "vxTqe44Wn0wB",
        "outputId": "7eee6490-e9dd-4f37-dd98-75c00b8c4059",
        "colab": {
          "base_uri": "https://localhost:8080/"
        }
      },
      "outputs": [
        {
          "output_type": "stream",
          "name": "stdout",
          "text": [
            "Pico\n",
            "120\n",
            "German Shepherd\n",
            "woof\n",
            "woof\n",
            "woof\n",
            "woof\n",
            "woof\n",
            "woof\n",
            "woof\n",
            "woof\n",
            "woof\n",
            "woof\n",
            "woof\n"
          ]
        }
      ],
      "source": [
        "class dog:\n",
        "  def __init__(self,name,weight,type):\n",
        "    self.name=name\n",
        "    self.weight=weight\n",
        "    self.type=type\n",
        "    self.__mood=5 #private method\n",
        "\n",
        "  def eat(self):\n",
        "    self.__mood+=1\n",
        "\n",
        "  def bark(self):\n",
        "    if self.__mood>5:\n",
        "      print(\"woof\")\n",
        "    else:\n",
        "      print(\"no\")\n",
        "\n",
        "\n",
        "\n",
        "\n",
        "\n",
        "Pico=dog(\"Pico\",120,\"German Shepherd\")\n",
        "print(Pico.name)\n",
        "print(Pico.weight)\n",
        "print(Pico.type)\n",
        "Pico.eat()\n",
        "Pico.bark()\n",
        "\n",
        "\n",
        "for _ in range(10):\n",
        "  Pico.eat()\n",
        "  Pico.bark()"
      ]
    },
    {
      "cell_type": "code",
      "source": [],
      "metadata": {
        "id": "i_guHRnVn10t"
      },
      "execution_count": null,
      "outputs": []
    }
  ]
}