{
  "nbformat": 4,
  "nbformat_minor": 0,
  "metadata": {
    "colab": {
      "provenance": [],
      "authorship_tag": "ABX9TyOHNBzJG1qn+isswCEokz3K",
      "include_colab_link": true
    },
    "kernelspec": {
      "name": "python3",
      "display_name": "Python 3"
    },
    "language_info": {
      "name": "python"
    }
  },
  "cells": [
    {
      "cell_type": "markdown",
      "metadata": {
        "id": "view-in-github",
        "colab_type": "text"
      },
      "source": [
        "<a href=\"https://colab.research.google.com/github/Aggeliki-Mentzini/python1/blob/main/Python1.ipynb\" target=\"_parent\"><img src=\"https://colab.research.google.com/assets/colab-badge.svg\" alt=\"Open In Colab\"/></a>"
      ]
    },
    {
      "cell_type": "code",
      "execution_count": null,
      "metadata": {
        "id": "ylnTbwpuH7JQ"
      },
      "outputs": [],
      "source": [
        "import pandas as pd\n",
        "import numpy as np\n",
        "import matplotlib.pyplot as plt\n",
        "import seaborn as sns\n",
        "import warnings\n",
        "warnings.filterwarnings('ignore')"
      ]
    },
    {
      "cell_type": "code",
      "source": [
        "twoDarray=np.array([[1,2,3],[4,5,6]])\n",
        "twoDarray\n"
      ],
      "metadata": {
        "colab": {
          "base_uri": "https://localhost:8080/"
        },
        "id": "3v6Gn-xvIGnT",
        "outputId": "d722666c-ca45-4492-81ac-973d9141814a"
      },
      "execution_count": null,
      "outputs": [
        {
          "output_type": "execute_result",
          "data": {
            "text/plain": [
              "array([[1, 2, 3],\n",
              "       [4, 5, 6]])"
            ]
          },
          "metadata": {},
          "execution_count": 3
        }
      ]
    },
    {
      "cell_type": "code",
      "source": [
        "twoDarray.shape"
      ],
      "metadata": {
        "colab": {
          "base_uri": "https://localhost:8080/"
        },
        "id": "KRlEBo06JAVI",
        "outputId": "1bd50590-330c-46a5-f236-14b7f9fd0082"
      },
      "execution_count": null,
      "outputs": [
        {
          "output_type": "execute_result",
          "data": {
            "text/plain": [
              "(2, 3)"
            ]
          },
          "metadata": {},
          "execution_count": 4
        }
      ]
    },
    {
      "cell_type": "code",
      "source": [
        "twoDarray.ndim"
      ],
      "metadata": {
        "colab": {
          "base_uri": "https://localhost:8080/"
        },
        "id": "t0SalDzLJInG",
        "outputId": "a93d0290-656e-47a2-9ae2-226cacaa44ce"
      },
      "execution_count": null,
      "outputs": [
        {
          "output_type": "execute_result",
          "data": {
            "text/plain": [
              "2"
            ]
          },
          "metadata": {},
          "execution_count": 6
        }
      ]
    },
    {
      "cell_type": "code",
      "source": [
        "twoDarray[1]"
      ],
      "metadata": {
        "colab": {
          "base_uri": "https://localhost:8080/"
        },
        "id": "DRQ0SuyvJK5-",
        "outputId": "e12cfea2-fc17-4b2e-9f51-54f8d7dd15b7"
      },
      "execution_count": null,
      "outputs": [
        {
          "output_type": "execute_result",
          "data": {
            "text/plain": [
              "array([4, 5, 6])"
            ]
          },
          "metadata": {},
          "execution_count": 7
        }
      ]
    },
    {
      "cell_type": "code",
      "source": [
        "twoDarray[0]"
      ],
      "metadata": {
        "colab": {
          "base_uri": "https://localhost:8080/"
        },
        "id": "ZgU0_AjeJP2O",
        "outputId": "1e076a54-6116-42a7-ec02-41b02974c4a0"
      },
      "execution_count": null,
      "outputs": [
        {
          "output_type": "execute_result",
          "data": {
            "text/plain": [
              "array([1, 2, 3])"
            ]
          },
          "metadata": {},
          "execution_count": 8
        }
      ]
    },
    {
      "cell_type": "code",
      "source": [
        "twoDarray[1,2]"
      ],
      "metadata": {
        "id": "7Nv-74MlJTyv",
        "outputId": "21d473a0-4ceb-4b2b-cfd1-ce6463743a03",
        "colab": {
          "base_uri": "https://localhost:8080/"
        }
      },
      "execution_count": null,
      "outputs": [
        {
          "output_type": "execute_result",
          "data": {
            "text/plain": [
              "6"
            ]
          },
          "metadata": {},
          "execution_count": 9
        }
      ]
    },
    {
      "cell_type": "code",
      "source": [
        "A=[1,2,3,4]"
      ],
      "metadata": {
        "id": "CvbAa7YlJYQv"
      },
      "execution_count": 1,
      "outputs": []
    },
    {
      "cell_type": "code",
      "source": [
        "print(A[0])"
      ],
      "metadata": {
        "id": "AWwnfMxJeq48",
        "outputId": "ea6ad3dd-37f7-4438-a223-f4288a65d820",
        "colab": {
          "base_uri": "https://localhost:8080/"
        }
      },
      "execution_count": 2,
      "outputs": [
        {
          "output_type": "stream",
          "name": "stdout",
          "text": [
            "1\n"
          ]
        }
      ]
    },
    {
      "cell_type": "code",
      "source": [
        "best_friends=[\"Natalie\",\"Bob\"]"
      ],
      "metadata": {
        "id": "xIkXoVVfev1r"
      },
      "execution_count": 3,
      "outputs": []
    },
    {
      "cell_type": "code",
      "source": [
        "print(best_friends)"
      ],
      "metadata": {
        "id": "t7SKukHoe4u7",
        "outputId": "40b227f8-cae2-4460-9355-4eceb647591c",
        "colab": {
          "base_uri": "https://localhost:8080/"
        }
      },
      "execution_count": 4,
      "outputs": [
        {
          "output_type": "stream",
          "name": "stdout",
          "text": [
            "['Natalie', 'Bob']\n"
          ]
        }
      ]
    },
    {
      "cell_type": "code",
      "source": [
        "best_friends[0]=\"Nat\"\n",
        "print(best_friends)"
      ],
      "metadata": {
        "id": "SwNZnHnce7w7",
        "outputId": "51c5fc55-8953-4a18-9e9f-add536c59117",
        "colab": {
          "base_uri": "https://localhost:8080/"
        }
      },
      "execution_count": 6,
      "outputs": [
        {
          "output_type": "stream",
          "name": "stdout",
          "text": [
            "['Nat', 'Bob']\n"
          ]
        }
      ]
    },
    {
      "cell_type": "code",
      "source": [
        "A=[5,8,2]\n",
        "max=A[0]\n",
        "for i in range(len(A)):\n",
        "  if A[i]>max:\n",
        "    max=A[i]\n",
        "print(max)"
      ],
      "metadata": {
        "id": "StOSB_SOe_Vs",
        "outputId": "542cffb5-a1df-4811-e4dc-0f8b4aaae5b7",
        "colab": {
          "base_uri": "https://localhost:8080/"
        }
      },
      "execution_count": 7,
      "outputs": [
        {
          "output_type": "stream",
          "name": "stdout",
          "text": [
            "8\n"
          ]
        }
      ]
    },
    {
      "cell_type": "code",
      "source": [
        "print(A[-1])"
      ],
      "metadata": {
        "id": "bOos4FKmfN2M",
        "outputId": "d057d3f7-b661-4615-a9f8-f312be4b1e62",
        "colab": {
          "base_uri": "https://localhost:8080/"
        }
      },
      "execution_count": 8,
      "outputs": [
        {
          "output_type": "stream",
          "name": "stdout",
          "text": [
            "2\n"
          ]
        }
      ]
    },
    {
      "cell_type": "code",
      "source": [
        "print(A[0:3])"
      ],
      "metadata": {
        "id": "jy8pkiK2foxl",
        "outputId": "10b0a7a0-5aa8-45ea-a757-2e43c68b060f",
        "colab": {
          "base_uri": "https://localhost:8080/"
        }
      },
      "execution_count": 13,
      "outputs": [
        {
          "output_type": "stream",
          "name": "stdout",
          "text": [
            "[5, 8, 2]\n"
          ]
        }
      ]
    },
    {
      "cell_type": "code",
      "source": [
        "A.append(10)\n",
        "print(A)\n",
        "print(len(A))"
      ],
      "metadata": {
        "id": "-gljlyJ4f_NV",
        "outputId": "0bb04583-df78-4e0c-c44c-ac9ea5b289bf",
        "colab": {
          "base_uri": "https://localhost:8080/"
        }
      },
      "execution_count": 21,
      "outputs": [
        {
          "output_type": "stream",
          "name": "stdout",
          "text": [
            "[10, 5, 8, 2, 4, 4, 10, 10]\n",
            "8\n"
          ]
        }
      ]
    },
    {
      "cell_type": "code",
      "source": [
        "A.insert(0,10)\n",
        "print(A)"
      ],
      "metadata": {
        "id": "ZqQxggLHhjjf",
        "outputId": "38a000f2-6cf0-4424-d686-346b5547763b",
        "colab": {
          "base_uri": "https://localhost:8080/"
        }
      },
      "execution_count": 17,
      "outputs": [
        {
          "output_type": "stream",
          "name": "stdout",
          "text": [
            "[10, 5, 8, 2, 4, 4, 10]\n"
          ]
        }
      ]
    },
    {
      "cell_type": "code",
      "source": [
        "print(len(A))"
      ],
      "metadata": {
        "id": "8kwHeSs0hsLO",
        "outputId": "2e2fa455-b16b-4925-ac4a-82d8ad5447ec",
        "colab": {
          "base_uri": "https://localhost:8080/"
        }
      },
      "execution_count": 19,
      "outputs": [
        {
          "output_type": "stream",
          "name": "stdout",
          "text": [
            "7\n"
          ]
        }
      ]
    },
    {
      "cell_type": "code",
      "source": [
        "B=[\"a\"]\n",
        "print(type(B))"
      ],
      "metadata": {
        "id": "pD_8PCD9hwlX",
        "outputId": "e50f95ae-b3ff-46df-8831-922da6bc70fb",
        "colab": {
          "base_uri": "https://localhost:8080/"
        }
      },
      "execution_count": 25,
      "outputs": [
        {
          "output_type": "stream",
          "name": "stdout",
          "text": [
            "<class 'list'>\n"
          ]
        }
      ]
    },
    {
      "cell_type": "code",
      "source": [
        "A.extend(B)\n",
        "print(A)"
      ],
      "metadata": {
        "id": "d6tDIJnMjSRR",
        "outputId": "0605a2a0-b3ef-43e9-ff97-da2026f53bd4",
        "colab": {
          "base_uri": "https://localhost:8080/"
        }
      },
      "execution_count": 23,
      "outputs": [
        {
          "output_type": "stream",
          "name": "stdout",
          "text": [
            "[10, 5, 8, 2, 4, 4, 10, 10, 'a']\n"
          ]
        }
      ]
    },
    {
      "cell_type": "code",
      "source": [
        "print(type(A))"
      ],
      "metadata": {
        "id": "pSGJhawpjVn4",
        "outputId": "38a07002-b2f6-4937-9bad-192400a727ed",
        "colab": {
          "base_uri": "https://localhost:8080/"
        }
      },
      "execution_count": 24,
      "outputs": [
        {
          "output_type": "stream",
          "name": "stdout",
          "text": [
            "<class 'list'>\n"
          ]
        }
      ]
    },
    {
      "cell_type": "code",
      "source": [
        "last=A.pop( )\n",
        "print(last)"
      ],
      "metadata": {
        "id": "AgeEftkojbCR",
        "outputId": "0847603c-7dad-47e8-fadd-9dedff979715",
        "colab": {
          "base_uri": "https://localhost:8080/"
        }
      },
      "execution_count": 27,
      "outputs": [
        {
          "output_type": "stream",
          "name": "stdout",
          "text": [
            "a\n"
          ]
        }
      ]
    },
    {
      "cell_type": "code",
      "source": [
        "print(A)"
      ],
      "metadata": {
        "id": "_kdSitDNkDV5",
        "outputId": "05624a9b-5828-4a4c-d7fa-32989e30e6a6",
        "colab": {
          "base_uri": "https://localhost:8080/"
        }
      },
      "execution_count": 28,
      "outputs": [
        {
          "output_type": "stream",
          "name": "stdout",
          "text": [
            "[10, 5, 8, 2, 4, 4, 10, 10]\n"
          ]
        }
      ]
    },
    {
      "cell_type": "code",
      "source": [
        "A.clear()\n",
        "print(A)"
      ],
      "metadata": {
        "id": "AGN168ankMXK",
        "outputId": "9e0c824f-3ff2-4250-8219-1b7ac6387bf2",
        "colab": {
          "base_uri": "https://localhost:8080/"
        }
      },
      "execution_count": 30,
      "outputs": [
        {
          "output_type": "stream",
          "name": "stdout",
          "text": [
            "[]\n"
          ]
        }
      ]
    },
    {
      "cell_type": "code",
      "source": [
        "oura_sto_tameio=[]\n",
        "print(oura_sto_tameio)\n",
        "oura_sto_tameio.append(\"Bob\")\n",
        "print(oura_sto_tameio)\n",
        "oura_sto_tameio.append(\"Tom\")\n",
        "print(oura_sto_tameio[i])\n",
        "print(oura_sto_tameio)\n",
        "efyge=oura_sto_tameio.pop(0)\n",
        "print(efyge, \"served\",\"emeinan oi\", oura_sto_tameio)"
      ],
      "metadata": {
        "id": "eE_jpJlLlqZT",
        "outputId": "efefd52e-14ec-44a5-a038-84068ceeb32b",
        "colab": {
          "base_uri": "https://localhost:8080/"
        }
      },
      "execution_count": 41,
      "outputs": [
        {
          "output_type": "stream",
          "name": "stdout",
          "text": [
            "[]\n",
            "['Bob']\n",
            "Tom\n",
            "['Bob', 'Tom']\n",
            "Bob served emeinan oi ['Tom']\n"
          ]
        }
      ]
    },
    {
      "cell_type": "code",
      "source": [
        "A=[]\n",
        "number=float(input(\"Dose prwto arithmo\"))\n",
        "A.append(number)\n",
        "number=float(input(\"Dose deftero arithmo\"))\n",
        "A.append(number)\n",
        "print(A)\n",
        "number=float(input(\"Dose tretiko arithmo\"))\n",
        "A.append(number)\n",
        "print(A)"
      ],
      "metadata": {
        "id": "yU2TKeEXmj2s",
        "outputId": "4a4eb113-fae8-4d6f-a616-f521dcf9947a",
        "colab": {
          "base_uri": "https://localhost:8080/"
        }
      },
      "execution_count": 45,
      "outputs": [
        {
          "output_type": "stream",
          "name": "stdout",
          "text": [
            "Dose prwto arithmo2\n",
            "Dose deftero arithmo6\n",
            "[2.0, 6.0]\n",
            "Dose tretiko arithmo1\n",
            "[2.0, 6.0, 1.0]\n"
          ]
        }
      ]
    },
    {
      "cell_type": "code",
      "source": [
        "A.sort()\n",
        "print(A)"
      ],
      "metadata": {
        "id": "4P219I5KpEaP",
        "outputId": "290ff6fc-7e9c-43ce-da71-425e38de0b8d",
        "colab": {
          "base_uri": "https://localhost:8080/"
        }
      },
      "execution_count": 46,
      "outputs": [
        {
          "output_type": "stream",
          "name": "stdout",
          "text": [
            "[1.0, 2.0, 6.0]\n"
          ]
        }
      ]
    },
    {
      "cell_type": "code",
      "source": [
        "tainies=[\"deiw\",\"ejdbje\"]\n",
        "agapimeni=input(\"Dose tainiko\")\n",
        "\n",
        "\n",
        "if agapimeni in tainies:\n",
        "  print(\"Yparxei\")\n",
        "else:\n",
        "  print(\"Den yparxei\")"
      ],
      "metadata": {
        "id": "SKEkYaGAphIp",
        "outputId": "6834e675-7abb-4f07-eddb-d35cba0e2406",
        "colab": {
          "base_uri": "https://localhost:8080/"
        }
      },
      "execution_count": 48,
      "outputs": [
        {
          "output_type": "stream",
          "name": "stdout",
          "text": [
            "Dose tainikowwwwwwwwwww\n",
            "Den yparxei\n"
          ]
        }
      ]
    },
    {
      "cell_type": "code",
      "source": [
        "i=1\n",
        "while i<=5:\n",
        "  print(i)\n",
        "  i+=1"
      ],
      "metadata": {
        "id": "u3Rfl-CtqBkp",
        "outputId": "10c91c9d-a8b9-40bd-b340-1f9c3ae21e33",
        "colab": {
          "base_uri": "https://localhost:8080/"
        }
      },
      "execution_count": 50,
      "outputs": [
        {
          "output_type": "stream",
          "name": "stdout",
          "text": [
            "1\n",
            "2\n",
            "3\n",
            "4\n",
            "5\n"
          ]
        }
      ]
    },
    {
      "cell_type": "code",
      "source": [
        "x=input(\"Dose arithmo\")\n",
        "while x!=\"quit\":\n",
        "  print(int(x)**2)\n",
        "  x=input(\"Dose arithmo\")\n",
        "\n",
        "print(\"telos\")"
      ],
      "metadata": {
        "id": "DH_EdKR1r217",
        "outputId": "8d0f309b-a8e1-4933-db83-ffe50bbec533",
        "colab": {
          "base_uri": "https://localhost:8080/"
        }
      },
      "execution_count": 57,
      "outputs": [
        {
          "output_type": "stream",
          "name": "stdout",
          "text": [
            "Dose arithmo4\n",
            "16\n",
            "Dose arithmoquit\n",
            "telos\n"
          ]
        }
      ]
    },
    {
      "cell_type": "code",
      "source": [
        "for i in range(1,6):\n",
        "  print(i)"
      ],
      "metadata": {
        "id": "6HNOxFmcw1hH",
        "outputId": "4e0a16f7-53ba-4c73-bf87-f39a8f92dadb",
        "colab": {
          "base_uri": "https://localhost:8080/"
        }
      },
      "execution_count": 58,
      "outputs": [
        {
          "output_type": "stream",
          "name": "stdout",
          "text": [
            "1\n",
            "2\n",
            "3\n",
            "4\n",
            "5\n"
          ]
        }
      ]
    },
    {
      "cell_type": "code",
      "source": [
        "for i in range(19,12,-1):\n",
        "  print(i)"
      ],
      "metadata": {
        "id": "f449t-he5yMY",
        "outputId": "e5b69281-947d-472b-dae6-8c92290b6f45",
        "colab": {
          "base_uri": "https://localhost:8080/"
        }
      },
      "execution_count": 59,
      "outputs": [
        {
          "output_type": "stream",
          "name": "stdout",
          "text": [
            "19\n",
            "18\n",
            "17\n",
            "16\n",
            "15\n",
            "14\n",
            "13\n"
          ]
        }
      ]
    },
    {
      "cell_type": "code",
      "source": [
        "for i in range(1,29+1,2):\n",
        "  if i%3==0:\n",
        "    print(i)"
      ],
      "metadata": {
        "id": "0QmIKpz36Yp3",
        "outputId": "b651aaa0-e89a-4cbb-e690-143786d5df73",
        "colab": {
          "base_uri": "https://localhost:8080/"
        }
      },
      "execution_count": 62,
      "outputs": [
        {
          "output_type": "stream",
          "name": "stdout",
          "text": [
            "3\n",
            "9\n",
            "15\n",
            "21\n",
            "27\n"
          ]
        }
      ]
    },
    {
      "cell_type": "code",
      "source": [
        "A=[]\n",
        "for i in range(0,1000+1,2):\n",
        "  A.append(i)\n",
        "print(A)"
      ],
      "metadata": {
        "id": "V3Ae7Dc862Lf",
        "outputId": "1cac0cc9-e963-405d-a6a2-7a6caec345bb",
        "colab": {
          "base_uri": "https://localhost:8080/"
        }
      },
      "execution_count": 63,
      "outputs": [
        {
          "output_type": "stream",
          "name": "stdout",
          "text": [
            "[0, 2, 4, 6, 8, 10, 12, 14, 16, 18, 20, 22, 24, 26, 28, 30, 32, 34, 36, 38, 40, 42, 44, 46, 48, 50, 52, 54, 56, 58, 60, 62, 64, 66, 68, 70, 72, 74, 76, 78, 80, 82, 84, 86, 88, 90, 92, 94, 96, 98, 100, 102, 104, 106, 108, 110, 112, 114, 116, 118, 120, 122, 124, 126, 128, 130, 132, 134, 136, 138, 140, 142, 144, 146, 148, 150, 152, 154, 156, 158, 160, 162, 164, 166, 168, 170, 172, 174, 176, 178, 180, 182, 184, 186, 188, 190, 192, 194, 196, 198, 200, 202, 204, 206, 208, 210, 212, 214, 216, 218, 220, 222, 224, 226, 228, 230, 232, 234, 236, 238, 240, 242, 244, 246, 248, 250, 252, 254, 256, 258, 260, 262, 264, 266, 268, 270, 272, 274, 276, 278, 280, 282, 284, 286, 288, 290, 292, 294, 296, 298, 300, 302, 304, 306, 308, 310, 312, 314, 316, 318, 320, 322, 324, 326, 328, 330, 332, 334, 336, 338, 340, 342, 344, 346, 348, 350, 352, 354, 356, 358, 360, 362, 364, 366, 368, 370, 372, 374, 376, 378, 380, 382, 384, 386, 388, 390, 392, 394, 396, 398, 400, 402, 404, 406, 408, 410, 412, 414, 416, 418, 420, 422, 424, 426, 428, 430, 432, 434, 436, 438, 440, 442, 444, 446, 448, 450, 452, 454, 456, 458, 460, 462, 464, 466, 468, 470, 472, 474, 476, 478, 480, 482, 484, 486, 488, 490, 492, 494, 496, 498, 500, 502, 504, 506, 508, 510, 512, 514, 516, 518, 520, 522, 524, 526, 528, 530, 532, 534, 536, 538, 540, 542, 544, 546, 548, 550, 552, 554, 556, 558, 560, 562, 564, 566, 568, 570, 572, 574, 576, 578, 580, 582, 584, 586, 588, 590, 592, 594, 596, 598, 600, 602, 604, 606, 608, 610, 612, 614, 616, 618, 620, 622, 624, 626, 628, 630, 632, 634, 636, 638, 640, 642, 644, 646, 648, 650, 652, 654, 656, 658, 660, 662, 664, 666, 668, 670, 672, 674, 676, 678, 680, 682, 684, 686, 688, 690, 692, 694, 696, 698, 700, 702, 704, 706, 708, 710, 712, 714, 716, 718, 720, 722, 724, 726, 728, 730, 732, 734, 736, 738, 740, 742, 744, 746, 748, 750, 752, 754, 756, 758, 760, 762, 764, 766, 768, 770, 772, 774, 776, 778, 780, 782, 784, 786, 788, 790, 792, 794, 796, 798, 800, 802, 804, 806, 808, 810, 812, 814, 816, 818, 820, 822, 824, 826, 828, 830, 832, 834, 836, 838, 840, 842, 844, 846, 848, 850, 852, 854, 856, 858, 860, 862, 864, 866, 868, 870, 872, 874, 876, 878, 880, 882, 884, 886, 888, 890, 892, 894, 896, 898, 900, 902, 904, 906, 908, 910, 912, 914, 916, 918, 920, 922, 924, 926, 928, 930, 932, 934, 936, 938, 940, 942, 944, 946, 948, 950, 952, 954, 956, 958, 960, 962, 964, 966, 968, 970, 972, 974, 976, 978, 980, 982, 984, 986, 988, 990, 992, 994, 996, 998, 1000]\n"
          ]
        }
      ]
    },
    {
      "cell_type": "code",
      "source": [
        "x=int(input(\"Dose arithmo\"))\n",
        "while x<3 and x>20:\n",
        "  print(x)\n",
        "  x=int(input(\"Dose arithmo\"))\n",
        "A=[]\n",
        "for i in range(0,x):\n",
        "  y=int(input(\"Dose arithmo\"))\n",
        "  while y<10 or y>20:\n",
        "    print(y)\n",
        "    y=int(input(\"Lathos, Dose arithmo apo 10 mexri 20\"))\n",
        "  A.append(y)\n",
        "A.sort()\n",
        "print(A)"
      ],
      "metadata": {
        "id": "uMR6ClCB7W1f",
        "outputId": "bf12808b-2420-4095-a19e-540c1fcd9c1f",
        "colab": {
          "base_uri": "https://localhost:8080/"
        }
      },
      "execution_count": 74,
      "outputs": [
        {
          "output_type": "stream",
          "name": "stdout",
          "text": [
            "Dose arithmo3\n",
            "Dose arithmo12\n",
            "Dose arithmo1\n",
            "1\n",
            "Lathos, Dose arithmo apo 10 mexri 2010\n",
            "Dose arithmo20\n",
            "[10, 12, 20]\n"
          ]
        }
      ]
    },
    {
      "cell_type": "code",
      "source": [
        "krimenos=6\n",
        "x=int(input(\"dose arithmo\"))\n",
        "while x!=krimenos:\n",
        "   if x>krimenos:\n",
        "     print(\"mantepse kapoion mikrotero\")\n",
        "   else:\n",
        "     print(\"mantepse kapoion megalutero\")\n",
        "\n",
        "   x=int(input(\"dose pali arithmo\"))\n",
        "else:\n",
        "  print(\"ton mantepses\")"
      ],
      "metadata": {
        "id": "gk12jHYu8NuI",
        "outputId": "ccb5dd5c-e013-4231-e39d-3898a11fba90",
        "colab": {
          "base_uri": "https://localhost:8080/"
        }
      },
      "execution_count": 86,
      "outputs": [
        {
          "output_type": "stream",
          "name": "stdout",
          "text": [
            "dose arithmo5\n",
            "mantepse kapoion megalutero\n",
            "dose pali arithmo7\n",
            "mantepse kapoion mikrotero\n",
            "dose pali arithmo6\n",
            "ton mantepses\n"
          ]
        }
      ]
    },
    {
      "cell_type": "code",
      "source": [
        "3"
      ],
      "metadata": {
        "id": "Cz7XH8ic8cIB"
      },
      "execution_count": null,
      "outputs": []
    }
  ]
}