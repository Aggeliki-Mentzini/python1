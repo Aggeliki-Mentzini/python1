{
  "nbformat": 4,
  "nbformat_minor": 0,
  "metadata": {
    "colab": {
      "provenance": [],
      "authorship_tag": "ABX9TyO8gh6aTt4GjRYI0LPB+n+c",
      "include_colab_link": true
    },
    "kernelspec": {
      "name": "python3",
      "display_name": "Python 3"
    },
    "language_info": {
      "name": "python"
    }
  },
  "cells": [
    {
      "cell_type": "markdown",
      "metadata": {
        "id": "view-in-github",
        "colab_type": "text"
      },
      "source": [
        "<a href=\"https://colab.research.google.com/github/Aggeliki-Mentzini/python1/blob/main/OOP%20with%20python.ipynb\" target=\"_parent\"><img src=\"https://colab.research.google.com/assets/colab-badge.svg\" alt=\"Open In Colab\"/></a>"
      ]
    },
    {
      "cell_type": "markdown",
      "source": [],
      "metadata": {
        "id": "yu9z0TfLo-O3"
      }
    },
    {
      "cell_type": "code",
      "execution_count": null,
      "metadata": {
        "id": "vxTqe44Wn0wB",
        "colab": {
          "base_uri": "https://localhost:8080/"
        },
        "outputId": "7eee6490-e9dd-4f37-dd98-75c00b8c4059"
      },
      "outputs": [
        {
          "output_type": "stream",
          "name": "stdout",
          "text": [
            "Pico\n",
            "120\n",
            "German Shepherd\n",
            "woof\n",
            "woof\n",
            "woof\n",
            "woof\n",
            "woof\n",
            "woof\n",
            "woof\n",
            "woof\n",
            "woof\n",
            "woof\n",
            "woof\n"
          ]
        }
      ],
      "source": [
        "class dog:\n",
        "  def __init__(self,name,weight,type):\n",
        "    self.name=name\n",
        "    self.weight=weight\n",
        "    self.type=type\n",
        "    self.__mood=5 #private method\n",
        "\n",
        "  def eat(self):\n",
        "    self.__mood+=1\n",
        "\n",
        "  def bark(self):\n",
        "    if self.__mood>5:\n",
        "      print(\"woof\")\n",
        "    else:\n",
        "      print(\"no\")\n",
        "\n",
        "\n",
        "\n",
        "\n",
        "\n",
        "Pico=dog(\"Pico\",120,\"German Shepherd\")\n",
        "print(Pico.name)\n",
        "print(Pico.weight)\n",
        "print(Pico.type)\n",
        "Pico.eat()\n",
        "Pico.bark()\n",
        "\n",
        "\n",
        "for _ in range(10):\n",
        "  Pico.eat()\n",
        "  Pico.bark()"
      ]
    },
    {
      "cell_type": "code",
      "source": [],
      "metadata": {
        "id": "i_guHRnVn10t"
      },
      "execution_count": null,
      "outputs": []
    },
    {
      "cell_type": "markdown",
      "source": [
        "The distinction between public and private methods in programming exists to enforce encapsulation, a fundamental principle of object-oriented programming (OOP). **Encapsulation is about bundling data and methods that operate on that data within a class and restricting access to some of the class's components.**\n",
        "\n",
        "**Reasons for Public and Private Methods:**\n",
        "1. Encapsulation and Abstraction:\n",
        "Public methods: These are the parts of a class that are accessible to the outside world. They define how the class interacts with other classes or users of the class. They represent the public interface of the class.\n",
        "Private methods: These are hidden from the outside world and are used internally within the class to perform tasks that the user of the class doesn’t need to know about. They help hide implementation details and keep the internal workings abstract.\n",
        "2. Protecting Internal State:\n",
        "Private methods and attributes prevent external code from directly modifying the internal state of an object in unintended ways. This reduces bugs caused by unintended side effects.\n",
        "For example, a method that calculates a value internally (e.g., compute_interest()) might not need to be exposed since its result can be accessed indirectly via a public method.\n",
        "3. Maintaining Control:\n",
        "Public methods provide a controlled way to access and modify the internal data of an object. By exposing only necessary methods, the class can enforce rules about how its data is manipulated.\n",
        "4. Flexibility for Refactoring:\n",
        "Since private methods are hidden from the outside world, you can modify their implementation without worrying about breaking code that relies on the class. Public methods, on the other hand, represent a contract with users of the class and should remain stable.\n",
        "5. Avoiding API Clutter:\n",
        "Classes can have many helper methods that should not be exposed as part of the class’s public API. Making these methods private keeps the API clean and focused on what the user truly needs."
      ],
      "metadata": {
        "id": "TNjjFwwbo_ln"
      }
    },
    {
      "cell_type": "code",
      "source": [
        "class Point:\n",
        "  def __init__(self,x,y):\n",
        "    self.__x=x\n",
        "    self.__y=y\n",
        "\n",
        "  def set_x(self,x):\n",
        "    self.__x=x\n",
        "\n",
        "  def set_y(self,y):\n",
        "    self.__y=y\n",
        "\n",
        "  def get_x(self):\n",
        "    return self.__x\n",
        "\n",
        "  def get_y(self):\n",
        "    return self.__y\n",
        "\n",
        "\n",
        "def f(x):\n",
        "  return x**2\n",
        "\n",
        "points=[]\n",
        "\n",
        "for x in range(10+1):\n",
        "  points.append(Point(x,f(x))) # to Point(x,f(x)) einai ena antikeimeno\n",
        "\n",
        "for p in points:\n",
        "  print('(', p.get_x(),',',p.get_y(),')')"
      ],
      "metadata": {
        "id": "Q9CNXMQrqyrk",
        "outputId": "7bd81f7e-4b32-4973-d601-d8c71fdc996b",
        "colab": {
          "base_uri": "https://localhost:8080/"
        }
      },
      "execution_count": null,
      "outputs": [
        {
          "output_type": "stream",
          "name": "stdout",
          "text": [
            "( 0 , 0 )\n",
            "( 1 , 1 )\n",
            "( 2 , 4 )\n",
            "( 3 , 9 )\n",
            "( 4 , 16 )\n",
            "( 5 , 25 )\n",
            "( 6 , 36 )\n",
            "( 7 , 49 )\n",
            "( 8 , 64 )\n",
            "( 9 , 81 )\n",
            "( 10 , 100 )\n"
          ]
        }
      ]
    },
    {
      "cell_type": "code",
      "source": [
        "class Storey():\n",
        "  def __init__(self):\n",
        "    self.people=0\n",
        "\n",
        "class Building():\n",
        "  def __init__(self,number_storeys):\n",
        "    self.storeys=[ Storey() for _ in range(number_storeys) ]\n",
        "  def add_people(self,number_people,storey):\n",
        "    self.storeys[storey].people+=number_people\n",
        "  def print_people(self):\n",
        "    for i in range(len(self.storeys)):\n",
        "      print('storey',i,':',self.storeys[i].people)"
      ],
      "metadata": {
        "id": "2e3_rZqGkutb"
      },
      "execution_count": null,
      "outputs": []
    },
    {
      "cell_type": "code",
      "source": [
        "b=Building(3)\n",
        "b.add_people(2,1)\n",
        "b.print_people()"
      ],
      "metadata": {
        "id": "eBbwYJbqlQuY",
        "outputId": "b566491e-23eb-4c90-b85f-551c2763020c",
        "colab": {
          "base_uri": "https://localhost:8080/"
        }
      },
      "execution_count": null,
      "outputs": [
        {
          "output_type": "stream",
          "name": "stdout",
          "text": [
            "storey 0 : 0\n",
            "storey 1 : 2\n",
            "storey 2 : 0\n"
          ]
        }
      ]
    },
    {
      "cell_type": "code",
      "source": [
        "class Queue:\n",
        "  def __init__(self):\n",
        "    self.array=[]\n",
        "\n",
        "  def enqueue(self,element):\n",
        "    self.array.append(element)\n",
        "\n",
        "  def dequeue(self):\n",
        "    if len(self.array)==0:\n",
        "      return None\n",
        "    element=self.array[0]\n",
        "    self.array=self.array[1:]\n",
        "    return element"
      ],
      "metadata": {
        "id": "VLnu-pVnmJsP"
      },
      "execution_count": 1,
      "outputs": []
    },
    {
      "cell_type": "code",
      "source": [
        "q=Queue()\n",
        "q.enqueue(1)\n",
        "q.enqueue(2)\n",
        "q.enqueue(3)\n",
        "print(q)\n",
        "print(q.dequeue())\n",
        "print(q.dequeue())\n",
        "print(q.dequeue())\n",
        "print(q.dequeue())"
      ],
      "metadata": {
        "id": "ysjL10mELfev",
        "outputId": "a950de38-d652-4280-cd94-af8d7d440e8e",
        "colab": {
          "base_uri": "https://localhost:8080/"
        }
      },
      "execution_count": 3,
      "outputs": [
        {
          "output_type": "stream",
          "name": "stdout",
          "text": [
            "<__main__.Queue object at 0x7846e159abf0>\n",
            "1\n",
            "2\n",
            "3\n",
            "None\n"
          ]
        }
      ]
    },
    {
      "cell_type": "code",
      "source": [],
      "metadata": {
        "id": "Kz-Ik2SiLmNg"
      },
      "execution_count": null,
      "outputs": []
    }
  ]
}